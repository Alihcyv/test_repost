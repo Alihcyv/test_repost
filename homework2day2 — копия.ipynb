{
 "cells": [
  {
   "cell_type": "raw",
   "id": "4b2cf8a1-0ac2-4aa9-98b7-db296c8b5a44",
   "metadata": {},
   "source": [
    "1. Which matches a word containing vowels in it (a,ı,o,u,e,ə,i,ö,ü).\n",
    "2. Which matches a word containing vowels not at the start or end of the word\n",
    "(a,ı,o,u,e,ə,i,ö,ü).\n",
    "3. Checks for a number at the end of a given string\n",
    "4. Which matches a word at the end of string, with optional question mark and\n",
    "exclamation point.\n",
    "5. Replaces whitespaces with a tab and vice versa.\n",
    "6. Finds all words starting with 'ə' or 'ü' in a given string.\n",
    "7. Removes all whitespaces from a string.\n",
    "8. Finds all words which have more than 4 characters in a string.\n",
    "9. Inserts spaces between words starting with capital letters.\n",
    "Original string: PythonProgrammingLanguage\n",
    "Expected output: Python Programming Language"
   ]
  },
  {
   "cell_type": "markdown",
   "id": "d8a85dbc-f621-4f4f-9d13-7c0a92e0f2fd",
   "metadata": {},
   "source": [
    "#### 1. Which matches a word containing vowels in it (a,ı,o,u,e,ə,i,ö,ü)."
   ]
  },
  {
   "cell_type": "code",
   "execution_count": 1,
   "id": "bc1ba0b2-8f07-4df0-9964-1e7bab63619b",
   "metadata": {},
   "outputs": [
    {
     "data": {
      "text/plain": [
       "['salam', 'necəsiniz', 'əli']"
      ]
     },
     "execution_count": 1,
     "metadata": {},
     "output_type": "execute_result"
    }
   ],
   "source": [
    "import re\n",
    "s = 'Salam necəsiniz Əli'\n",
    "re.findall(r'\\b\\w*[aıoueəiöü]\\w*\\b', s.lower())"
   ]
  },
  {
   "cell_type": "markdown",
   "id": "d3ceba67-e731-4281-871c-6d012f689fe0",
   "metadata": {},
   "source": [
    "#### 2. Which matches a word containing vowels not at the start or end of the word (a,ı,o,u,e,ə,i,ö,ü)."
   ]
  },
  {
   "cell_type": "code",
   "execution_count": 379,
   "id": "0f285498-b861-4b5b-8291-c2ee6b20affe",
   "metadata": {},
   "outputs": [
    {
     "data": {
      "text/plain": [
       "['salam ', 'necəsiniz ']"
      ]
     },
     "execution_count": 379,
     "metadata": {},
     "output_type": "execute_result"
    }
   ],
   "source": [
    "import re\n",
    "s = 'Salam necəsiniz Əli'\n",
    "re.findall(r'\\b[^aıoueəiöü]\\w*[aıoueəiöü]\\w*[^aıoueəiöü]\\b', s.lower())"
   ]
  },
  {
   "cell_type": "markdown",
   "id": "7987bd71-0007-4965-b513-e6df4c137118",
   "metadata": {},
   "source": [
    "#### 3. Checks for a number at the end of a given string\n"
   ]
  },
  {
   "cell_type": "code",
   "execution_count": 362,
   "id": "004df125-b475-4daa-97ee-f4baf2b349b7",
   "metadata": {},
   "outputs": [
    {
     "data": {
      "text/plain": [
       "['123']"
      ]
     },
     "execution_count": 362,
     "metadata": {},
     "output_type": "execute_result"
    }
   ],
   "source": [
    "s = 'Example123'\n",
    "re.findall(r'\\d+$', s)"
   ]
  },
  {
   "cell_type": "markdown",
   "id": "3320f136-cbf8-42e1-938a-bb92001f3d93",
   "metadata": {},
   "source": [
    "#### 4. Which matches a word at the end of string, with optional question mark and exclamation point."
   ]
  },
  {
   "cell_type": "code",
   "execution_count": 33,
   "id": "460e1bc0-8417-4896-97f9-ae4048de8e9f",
   "metadata": {},
   "outputs": [
    {
     "data": {
      "text/plain": [
       "['up !', 'on?']"
      ]
     },
     "execution_count": 33,
     "metadata": {},
     "output_type": "execute_result"
    }
   ],
   "source": [
    "s = 'Do not give up !, what is going on?'\n",
    "re.findall(r'\\w+\\s*[!?]+',s)\n"
   ]
  },
  {
   "cell_type": "code",
   "execution_count": 35,
   "id": "2fe57894-a782-4d0c-a004-3e7c76e667b2",
   "metadata": {},
   "outputs": [
    {
     "data": {
      "text/plain": [
       "['on?']"
      ]
     },
     "execution_count": 35,
     "metadata": {},
     "output_type": "execute_result"
    }
   ],
   "source": [
    "re.findall(r'\\w+[?!]?$', s)"
   ]
  },
  {
   "cell_type": "code",
   "execution_count": 585,
   "id": "a2b118bb-ba80-4a87-9585-01e83640aaa5",
   "metadata": {},
   "outputs": [
    {
     "data": {
      "text/plain": [
       "['you ?']"
      ]
     },
     "execution_count": 585,
     "metadata": {},
     "output_type": "execute_result"
    }
   ],
   "source": [
    "s = s = 'Hello world How are you ?'\n",
    "re.findall(r'\\w+\\s*[!?]?$', s)"
   ]
  },
  {
   "cell_type": "code",
   "execution_count": null,
   "id": "9650cead-d0fa-4bab-a61a-595a7a73b856",
   "metadata": {},
   "outputs": [],
   "source": []
  },
  {
   "cell_type": "markdown",
   "id": "40b8027d-f1a4-41b1-8a25-d8c1bea5d574",
   "metadata": {},
   "source": [
    "#### 5. Replaces whitespaces with a tab and vice versa."
   ]
  },
  {
   "cell_type": "code",
   "execution_count": 596,
   "id": "267f0c92-6244-4464-88bd-a20aadd6dc4b",
   "metadata": {},
   "outputs": [
    {
     "name": "stdout",
     "output_type": "stream",
     "text": [
      "Hello\tworld\tHow\tare\tyou\t?\n",
      "Hello world How are you ?\n"
     ]
    }
   ],
   "source": [
    "s = 'Hello world How are you ?'\n",
    "s_replaced = re.sub(r' ', '\\t', s) # Replace spaces with tabs\n",
    "print(s_replaced)\n",
    "print(re.sub(r'\\t', ' ', s_replaced))"
   ]
  },
  {
   "cell_type": "markdown",
   "id": "e9b30216-d96e-4075-a775-7bfc1ac290d8",
   "metadata": {},
   "source": [
    "#### 6. Finds all words starting with 'ə' or 'ü' in a given string."
   ]
  },
  {
   "cell_type": "code",
   "execution_count": 635,
   "id": "6f8b0e15-598d-4c5e-9c0c-432d69814d4e",
   "metadata": {},
   "outputs": [
    {
     "data": {
      "text/plain": [
       "['əli']"
      ]
     },
     "execution_count": 635,
     "metadata": {},
     "output_type": "execute_result"
    }
   ],
   "source": [
    "s = 'Salam necəsiniz Əli'\n",
    "re.findall(r'\\b[əü]\\w*', s.lower())"
   ]
  },
  {
   "cell_type": "markdown",
   "id": "fe632f39-35cd-4b02-8136-4f59fb5c5d73",
   "metadata": {},
   "source": [
    "#### 7. Removes all whitespaces from a string."
   ]
  },
  {
   "cell_type": "code",
   "execution_count": 677,
   "id": "4d614fc7-2c97-4184-95f9-a1ecd0ce2590",
   "metadata": {},
   "outputs": [
    {
     "data": {
      "text/plain": [
       "'HelloworldHowareyou?'"
      ]
     },
     "execution_count": 677,
     "metadata": {},
     "output_type": "execute_result"
    }
   ],
   "source": [
    "s = 'Hello  world  How        are you ?'\n",
    "s.replace(' ', '')"
   ]
  },
  {
   "cell_type": "code",
   "execution_count": null,
   "id": "8e86a1d6-f092-4a0c-b681-0b3bb867cba1",
   "metadata": {},
   "outputs": [],
   "source": []
  },
  {
   "cell_type": "code",
   "execution_count": 681,
   "id": "15dd98cf-17a0-44aa-96c7-2986211af216",
   "metadata": {},
   "outputs": [
    {
     "data": {
      "text/plain": [
       "'HelloworldHowareyou?'"
      ]
     },
     "execution_count": 681,
     "metadata": {},
     "output_type": "execute_result"
    }
   ],
   "source": [
    "s = 'Hello  world  How        are you ?'\n",
    "re.sub(r'\\s+', '', s )"
   ]
  },
  {
   "cell_type": "markdown",
   "id": "487d54bd-a326-4f9a-8fb9-2865b352c395",
   "metadata": {},
   "source": [
    "#### 8. Finds all words which have more than 4 characters in a string."
   ]
  },
  {
   "cell_type": "code",
   "execution_count": 703,
   "id": "3e06f7a9-cec1-4352-9ef3-9ae3ec185c30",
   "metadata": {},
   "outputs": [
    {
     "data": {
      "text/plain": [
       "['Wonder', 'Mountain', 'Universe', 'Journey']"
      ]
     },
     "execution_count": 703,
     "metadata": {},
     "output_type": "execute_result"
    }
   ],
   "source": [
    "s = 'Wonder, Good, Mountain, Universe, Journey, Fire'\n",
    "re.findall(r'\\b[A-z]{5,}\\b', s)"
   ]
  },
  {
   "cell_type": "markdown",
   "id": "0fe64cb9-61ac-44c3-a025-0fe727192635",
   "metadata": {},
   "source": [
    "#### 9. Inserts spaces between words starting with capital letters."
   ]
  },
  {
   "cell_type": "code",
   "execution_count": 9,
   "id": "53482cec-771d-42e4-96fe-c77131fadce0",
   "metadata": {},
   "outputs": [
    {
     "data": {
      "text/plain": [
       "'Python Programming Language'"
      ]
     },
     "execution_count": 9,
     "metadata": {},
     "output_type": "execute_result"
    }
   ],
   "source": [
    "s = 'PythonProgrammingLanguage'\n",
    "' '.join(re.findall(r'[A-Z][a-z]+', s))"
   ]
  },
  {
   "cell_type": "code",
   "execution_count": 21,
   "id": "05995414-764a-4891-90c9-c93333d4bef6",
   "metadata": {},
   "outputs": [
    {
     "data": {
      "text/plain": [
       "'Python Programming Language'"
      ]
     },
     "execution_count": 21,
     "metadata": {},
     "output_type": "execute_result"
    }
   ],
   "source": [
    "s = 'PythonProgrammingLanguage'\n",
    "re.sub(r'([a-z])([A-Z])+', r'\\1 \\2', s)"
   ]
  },
  {
   "cell_type": "code",
   "execution_count": null,
   "id": "622d756d-b50c-4ff2-8fe3-0706f77427c8",
   "metadata": {},
   "outputs": [],
   "source": []
  }
 ],
 "metadata": {
  "kernelspec": {
   "display_name": "Python 3 (ipykernel)",
   "language": "python",
   "name": "python3"
  },
  "language_info": {
   "codemirror_mode": {
    "name": "ipython",
    "version": 3
   },
   "file_extension": ".py",
   "mimetype": "text/x-python",
   "name": "python",
   "nbconvert_exporter": "python",
   "pygments_lexer": "ipython3",
   "version": "3.12.4"
  }
 },
 "nbformat": 4,
 "nbformat_minor": 5
}
